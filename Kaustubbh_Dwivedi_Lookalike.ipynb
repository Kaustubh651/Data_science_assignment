{
  "nbformat": 4,
  "nbformat_minor": 0,
  "metadata": {
    "colab": {
      "provenance": []
    },
    "kernelspec": {
      "name": "python3",
      "display_name": "Python 3"
    },
    "language_info": {
      "name": "python"
    }
  },
  "cells": [
    {
      "cell_type": "code",
      "source": [
        "import pandas as pd\n",
        "from sklearn.preprocessing import StandardScaler\n",
        "from sklearn.cluster import KMeans\n",
        "from sklearn.metrics.pairwise import cosine_similarity"
      ],
      "metadata": {
        "id": "99-nNHO_jUsP"
      },
      "execution_count": 4,
      "outputs": []
    },
    {
      "cell_type": "code",
      "source": [
        "# Load data\n",
        "customer_data = pd.read_csv(\"Customers.csv\")\n",
        "transaction_data = pd.read_csv(\"Transactions.csv\")\n",
        "product_data = pd.read_csv(\"Products.csv\")"
      ],
      "metadata": {
        "id": "I5LsHlpxjMdQ"
      },
      "execution_count": 5,
      "outputs": []
    },
    {
      "cell_type": "code",
      "source": [
        "# Merge transaction and product data\n",
        "transaction_product_data = pd.merge(transaction_data, product_data, on=\"ProductID\", how=\"left\")"
      ],
      "metadata": {
        "id": "Qx4M_7rNjOPg"
      },
      "execution_count": 6,
      "outputs": []
    },
    {
      "cell_type": "code",
      "source": [
        "# Aggregate transaction data per customer\n",
        "customer_transaction_summary = transaction_product_data.groupby(\"CustomerID\").agg({\n",
        "    \"TotalValue\": \"sum\",\n",
        "    \"Quantity\": \"sum\"\n",
        "}).reset_index()\n"
      ],
      "metadata": {
        "id": "bOBOloD5jaA4"
      },
      "execution_count": 7,
      "outputs": []
    },
    {
      "cell_type": "code",
      "source": [
        "# Merge customer data with transaction summary\n",
        "customer_profile = pd.merge(customer_data, customer_transaction_summary, on=\"CustomerID\", how=\"left\")"
      ],
      "metadata": {
        "id": "2x-nhx3cjbb5"
      },
      "execution_count": 8,
      "outputs": []
    },
    {
      "cell_type": "code",
      "source": [
        "\n",
        "# Fill NaN values for customers without transactions\n",
        "customer_profile[\"TotalValue\"].fillna(0, inplace=True)\n",
        "customer_profile[\"Quantity\"].fillna(0, inplace=True)"
      ],
      "metadata": {
        "colab": {
          "base_uri": "https://localhost:8080/"
        },
        "id": "4MbqzD_cjcmx",
        "outputId": "32dbf62a-49bc-47bf-c96b-64c2451d9fc2"
      },
      "execution_count": 9,
      "outputs": [
        {
          "output_type": "stream",
          "name": "stderr",
          "text": [
            "<ipython-input-9-9cee6b692343>:2: FutureWarning: A value is trying to be set on a copy of a DataFrame or Series through chained assignment using an inplace method.\n",
            "The behavior will change in pandas 3.0. This inplace method will never work because the intermediate object on which we are setting values always behaves as a copy.\n",
            "\n",
            "For example, when doing 'df[col].method(value, inplace=True)', try using 'df.method({col: value}, inplace=True)' or df[col] = df[col].method(value) instead, to perform the operation inplace on the original object.\n",
            "\n",
            "\n",
            "  customer_profile[\"TotalValue\"].fillna(0, inplace=True)\n",
            "<ipython-input-9-9cee6b692343>:3: FutureWarning: A value is trying to be set on a copy of a DataFrame or Series through chained assignment using an inplace method.\n",
            "The behavior will change in pandas 3.0. This inplace method will never work because the intermediate object on which we are setting values always behaves as a copy.\n",
            "\n",
            "For example, when doing 'df[col].method(value, inplace=True)', try using 'df.method({col: value}, inplace=True)' or df[col] = df[col].method(value) instead, to perform the operation inplace on the original object.\n",
            "\n",
            "\n",
            "  customer_profile[\"Quantity\"].fillna(0, inplace=True)\n"
          ]
        }
      ]
    },
    {
      "cell_type": "code",
      "source": [
        "# Standardize numerical features\n",
        "scaler = StandardScaler()\n",
        "customer_profile[[\"TotalValue\", \"Quantity\"]] = scaler.fit_transform(customer_profile[[\"TotalValue\", \"Quantity\"]])"
      ],
      "metadata": {
        "id": "MBY2I-oHjoNH"
      },
      "execution_count": 10,
      "outputs": []
    },
    {
      "cell_type": "code",
      "source": [
        "# Perform KMeans clustering\n",
        "kmeans = KMeans(n_clusters=5, random_state=42)\n",
        "customer_profile['Cluster'] = kmeans.fit_predict(customer_profile[[\"TotalValue\", \"Quantity\"]])"
      ],
      "metadata": {
        "id": "BGfHQ5VOjqWY"
      },
      "execution_count": 11,
      "outputs": []
    },
    {
      "cell_type": "code",
      "source": [
        "# Compute cosine similarity within clusters\n",
        "# Compute cosine similarity within clusters\n",
        "similarity_map = {}\n",
        "for cluster in customer_profile['Cluster'].unique():\n",
        "    cluster_data = customer_profile[customer_profile['Cluster'] == cluster]\n",
        "    if len(cluster_data) > 1:\n",
        "        # Compute cosine similarity for the cluster\n",
        "        tfidf_matrix = cosine_similarity(cluster_data[[\"TotalValue\", \"Quantity\"]])\n",
        "\n",
        "        # Reset index to align DataFrame indices with similarity matrix\n",
        "        cluster_data = cluster_data.reset_index()\n",
        "\n",
        "        for idx, row in cluster_data.iterrows():\n",
        "            # Get similarity scores for the current customer\n",
        "            similarity_scores = list(enumerate(tfidf_matrix[idx]))\n",
        "            similarity_scores = sorted(similarity_scores, key=lambda x: x[1], reverse=True)\n",
        "\n",
        "            # Get the top 3 similar customers (excluding the customer itself)\n",
        "            similar_customers = [\n",
        "                (cluster_data.iloc[i[0]][\"CustomerID\"], i[1])\n",
        "                for i in similarity_scores[1:4]  # Exclude self (top 3)\n",
        "            ]\n",
        "            similarity_map[row[\"CustomerID\"]] = similar_customers\n"
      ],
      "metadata": {
        "id": "XQuDojVTjsTf"
      },
      "execution_count": 15,
      "outputs": []
    },
    {
      "cell_type": "code",
      "source": [
        "# Generate Lookalike.csv\n",
        "lookalike_df = pd.DataFrame({\n",
        "    \"CustomerID\": similarity_map.keys(),\n",
        "    \"Lookalikes\": [str(v) for v in similarity_map.values()]\n",
        "})"
      ],
      "metadata": {
        "id": "lPSHL5P2jtcg"
      },
      "execution_count": 16,
      "outputs": []
    },
    {
      "cell_type": "code",
      "source": [
        "lookalike_df.to_csv(\"Lookalike.csv\", index=False)"
      ],
      "metadata": {
        "colab": {
          "base_uri": "https://localhost:8080/"
        },
        "id": "mdJDFqG-juWk",
        "outputId": "5b6b4152-6800-4d79-9cf1-ad68d786edfe"
      },
      "execution_count": 17,
      "outputs": [
        {
          "output_type": "stream",
          "name": "stdout",
          "text": [
            "Lookalike.csv generated successfully!\n"
          ]
        }
      ]
    },
    {
      "cell_type": "markdown",
      "source": [
        "#1. Accuracy"
      ],
      "metadata": {
        "id": "FByhVuw4k0wf"
      }
    },
    {
      "cell_type": "code",
      "source": [
        "mean_similarity = []\n",
        "for customer, recommendations in similarity_map.items():\n",
        "    similarities = [rec[1] for rec in recommendations]  # Extract scores\n",
        "    mean_similarity.append(sum(similarities) / len(similarities))\n",
        "print(\"Mean Similarity Score:\", sum(mean_similarity) / len(mean_similarity))\n"
      ],
      "metadata": {
        "colab": {
          "base_uri": "https://localhost:8080/"
        },
        "id": "wbyosRzrjwg3",
        "outputId": "ce48ae8e-7bc8-4d88-c643-8b78020925fb"
      },
      "execution_count": 18,
      "outputs": [
        {
          "output_type": "stream",
          "name": "stdout",
          "text": [
            "Mean Similarity Score: 0.9955880031782885\n"
          ]
        }
      ]
    },
    {
      "cell_type": "markdown",
      "source": [
        "#2. Clustering Performance\n",
        "Assess the quality of KMeans clustering using metrics like inertia or silhouette score:"
      ],
      "metadata": {
        "id": "6YAoUoShk7OV"
      }
    },
    {
      "cell_type": "code",
      "source": [
        "from sklearn.metrics import silhouette_score\n",
        "silhouette_avg = silhouette_score(customer_profile[[\"TotalValue\", \"Quantity\"]], customer_profile[\"Cluster\"])\n",
        "print(\"Silhouette Score:\", silhouette_avg)\n"
      ],
      "metadata": {
        "colab": {
          "base_uri": "https://localhost:8080/"
        },
        "id": "pnSCXoNrk5yf",
        "outputId": "87a6a31f-3ec5-4ce2-8ed5-58839d97adf3"
      },
      "execution_count": 19,
      "outputs": [
        {
          "output_type": "stream",
          "name": "stdout",
          "text": [
            "Silhouette Score: 0.4315131216122971\n"
          ]
        }
      ]
    },
    {
      "cell_type": "code",
      "source": [],
      "metadata": {
        "id": "sREKPxjfk3WJ"
      },
      "execution_count": null,
      "outputs": []
    }
  ]
}